{
 "cells": [
  {
   "attachments": {},
   "cell_type": "markdown",
   "metadata": {},
   "source": [
    "# Intro to Data Analysis with Python, Session 1"
   ]
  },
  {
   "attachments": {},
   "cell_type": "markdown",
   "metadata": {},
   "source": [
    "## Why Python?\n",
    "\n",
    "- versatility\n",
    "- ease of use\n",
    "- extensibility\n",
    "- ubiquity"
   ]
  },
  {
   "attachments": {},
   "cell_type": "markdown",
   "metadata": {},
   "source": [
    "## Interacting with Python\n",
    "\n",
    "- interactive Python\n",
    "- writing/running scripts\n",
    "- Jupyter notebooks (literate programming)\n",
    "- building/using applications  "
   ]
  },
  {
   "attachments": {},
   "cell_type": "markdown",
   "metadata": {},
   "source": [
    "## Working with numbers\n",
    "\n",
    "Python can be used to perform calculations with integers and floating point\n",
    "values. See the examples below:"
   ]
  },
  {
   "attachments": {},
   "cell_type": "markdown",
   "metadata": {},
   "source": [
    "### addition, subtraction, multiplication\n",
    "\n",
    "```python\n",
    ">>> 2 + 2\n",
    "4\n",
    "\n",
    ">>> 2 - 1.2\n",
    "0.8\n",
    "\n",
    ">>> 8 * 0.5 - 1\n",
    "3.0\n",
    "```"
   ]
  },
  {
   "attachments": {},
   "cell_type": "markdown",
   "metadata": {},
   "source": [
    "### division\n",
    "\n",
    "```python\n",
    ">>> 9 / 2  # normal division\n",
    "4.5\n",
    "\n",
    ">>> 9 // 2  # integer division (aka floor division)\n",
    "4\n",
    "\n",
    ">>> 9 % 2  # modulo operator (remainder)\n",
    "1\n",
    "```"
   ]
  },
  {
   "attachments": {},
   "cell_type": "markdown",
   "metadata": {},
   "source": [
    "### powers\n",
    "\n",
    "```python\n",
    "# 2 cubed\n",
    ">>> 2 ** 3\n",
    "8\n",
    "\n",
    "# (1 + 1) ** 3  # parentheses can be used for grouping\n",
    "8\n",
    "```"
   ]
  },
  {
   "cell_type": "code",
   "execution_count": 139,
   "metadata": {
    "scrolled": true
   },
   "outputs": [
    {
     "data": {
      "text/plain": [
       "42"
      ]
     },
     "execution_count": 139,
     "metadata": {},
     "output_type": "execute_result"
    }
   ],
   "source": [
    "# Exercise: experiment with numeric calculations\n",
    "# try replacing the expression below with some of your own\n",
    "\n",
    "7 + 7 * 5"
   ]
  },
  {
   "attachments": {},
   "cell_type": "markdown",
   "metadata": {},
   "source": [
    "## Working with text\n",
    "\n",
    "Python can also be used to manipulate text strings, which are enclosed in either\n",
    "single or double quotes. See the examples below:\n",
    "\n",
    "### String examples/dealing with quotes in strings\n",
    "\n",
    "```python\n",
    ">>> \"Caesar Salad\"\n",
    "'Caesar Salad'\n",
    "\n",
    ">>> \"Chef's Salad\"  # Ok, since single quote is enclosed in double quotes\n",
    "\"Chef's Salad\"\n",
    "\n",
    ">>> 'Chef\\'s Salad' # Ok, because quote is \"escaped\" by backslash\n",
    "\"Chef's Salad\"\n",
    "```\n",
    "\n",
    "### String operations\n",
    "\n",
    "```python\n",
    ">>> \"foo\" + \"bar\"  # the + operator concatenates strings\n",
    "'foobar'\n",
    "\n",
    ">>> \"foo\" * 3  # multiplying by an integer repeats a string\n",
    "'foofoofoo'\n",
    "```\n",
    "\n",
    "### String indexing\n",
    "\n",
    "The character at a specific position (starting with zero) can be retrieved with\n",
    "`string[index]`. Use negative index values to count from the end of the string.\n",
    "\n",
    "```python\n",
    ">>> \"foobar\"[0]  # returns the first (0th) character of the string\n",
    "'f'\n",
    "\n",
    ">>> \"foobar\"[3]  # returns the fourth character of the string\n",
    "'b'\n",
    "\n",
    ">>> \"foobar\"[-1]  # returns the last character of the string\n",
    "'r'\n",
    "\n",
    ">>> \"foobar\"[-3]  # returns the third-to-last character of the string\n",
    "'b'\n",
    "```\n",
    "\n",
    "### String slicing\n",
    "\n",
    "A specific portion, or slice, of a string can be retrieved with\n",
    "`string[start:end]`. Note that the character at the start index will be\n",
    "included, while the character at the end index will not. If either the start or\n",
    "end index is omitted, the slice retrieved will extend to the start or end of the\n",
    "string.\n",
    "\n",
    "```python\n",
    ">>> \"foobar\"[0:3]  # returns the first three characters of the string\n",
    "'foo'\n",
    "\n",
    ">>> \"foobar\"[:3]  # also returns the first three characters of the string\n",
    "'foo'\n",
    "\n",
    ">>> \"foobar\"[-3:]  # returns the last three characters of the string\n",
    "'bar'\n",
    "```\n",
    "\n",
    "### String interpolation\n",
    "\n",
    "When you want to include a numeric value in a string, you can convert it to a string with the built in `str()` function..."
   ]
  },
  {
   "cell_type": "code",
   "execution_count": 140,
   "metadata": {},
   "outputs": [
    {
     "data": {
      "text/plain": [
       "'A large pizza is 18 inches in diameter.'"
      ]
     },
     "execution_count": 140,
     "metadata": {},
     "output_type": "execute_result"
    }
   ],
   "source": [
    "\"A large pizza is \" + str(18) + \" inches in diameter.\""
   ]
  },
  {
   "attachments": {},
   "cell_type": "markdown",
   "metadata": {},
   "source": [
    "...or you can use an \"f-string\" to include one or more expressions and convert\n",
    "them to strings automatically."
   ]
  },
  {
   "cell_type": "code",
   "execution_count": 141,
   "metadata": {},
   "outputs": [
    {
     "data": {
      "text/plain": [
       "'Three cubed is 27.'"
      ]
     },
     "execution_count": 141,
     "metadata": {},
     "output_type": "execute_result"
    }
   ],
   "source": [
    "f\"Three cubed is {3 ** 3}.\""
   ]
  },
  {
   "cell_type": "code",
   "execution_count": 142,
   "metadata": {
    "scrolled": true
   },
   "outputs": [
    {
     "data": {
      "text/plain": [
       "'karma karma karma karma karma chameleon'"
      ]
     },
     "execution_count": 142,
     "metadata": {},
     "output_type": "execute_result"
    }
   ],
   "source": [
    "# Exercise: experiment with string manipulation\n",
    "# try replacing the expression below with some of your own\n",
    "\n",
    "\"karma \" * 5 + \"chameleon\""
   ]
  },
  {
   "attachments": {},
   "cell_type": "markdown",
   "metadata": {},
   "source": [
    "## Variables and data types\n",
    "\n",
    "### Variable Assignment\n",
    "\n",
    "Values are assigned to variables using the equal sign (`=`) operator. Since Python uses dynamic typing, there is no need to explicitly declare variable types. Variable assignment does not result in any output, but the built-in `print()` function can be used to output a variable's value."
   ]
  },
  {
   "cell_type": "code",
   "execution_count": 143,
   "metadata": {},
   "outputs": [
    {
     "name": "stdout",
     "output_type": "stream",
     "text": [
      "salad\n"
     ]
    }
   ],
   "source": [
    "food = \"salad\"\n",
    "print(food)"
   ]
  },
  {
   "attachments": {},
   "cell_type": "markdown",
   "metadata": {},
   "source": [
    "Note that reassigning to an existing variable is possible (and be careful with this)."
   ]
  },
  {
   "cell_type": "code",
   "execution_count": 144,
   "metadata": {},
   "outputs": [
    {
     "name": "stdout",
     "output_type": "stream",
     "text": [
      "salad\n",
      "pizza\n"
     ]
    }
   ],
   "source": [
    "print(food)\n",
    "food = \"pizza\"\n",
    "print(food)"
   ]
  },
  {
   "attachments": {},
   "cell_type": "markdown",
   "metadata": {},
   "source": [
    "### Common data types\n",
    "\n",
    "Python has many standard data types, but these are the ones to learn first:\n",
    "\n",
    "- integer\n",
    "- float\n",
    "- string\n",
    "- boolean (`True`/`False`)\n",
    "- list\n",
    "- dictionary\n",
    "\n",
    "Data types can be retrieved with the built-in `type()` function."
   ]
  },
  {
   "cell_type": "code",
   "execution_count": 145,
   "metadata": {},
   "outputs": [
    {
     "data": {
      "text/plain": [
       "str"
      ]
     },
     "execution_count": 145,
     "metadata": {},
     "output_type": "execute_result"
    }
   ],
   "source": [
    "type(\"pizza\")"
   ]
  },
  {
   "cell_type": "code",
   "execution_count": 146,
   "metadata": {},
   "outputs": [
    {
     "data": {
      "text/plain": [
       "str"
      ]
     },
     "execution_count": 146,
     "metadata": {},
     "output_type": "execute_result"
    }
   ],
   "source": [
    "type(food)"
   ]
  },
  {
   "attachments": {},
   "cell_type": "markdown",
   "metadata": {},
   "source": [
    "### Lists\n",
    "\n",
    "Lists are ordered collections of objects which can be written as a list of comma-separated values (items) between square brackets. Lists can be indexed and sliced, like strings."
   ]
  },
  {
   "cell_type": "code",
   "execution_count": 147,
   "metadata": {},
   "outputs": [
    {
     "name": "stdout",
     "output_type": "stream",
     "text": [
      "second item in toppings: black olives\n",
      "list containing first two items in toppings: ['pepperoni', 'black olives']\n"
     ]
    }
   ],
   "source": [
    "toppings = [\"pepperoni\", \"black olives\", \"mushrooms\", \"anchovies\"]\n",
    "\n",
    "print(f\"second item in toppings: {toppings[1]}\")\n",
    "print(f\"list containing first two items in toppings: {toppings[:2]}\")"
   ]
  },
  {
   "attachments": {},
   "cell_type": "markdown",
   "metadata": {},
   "source": [
    "Lists have an `append()` method that can be used to add new items. This modifies\n",
    "the existing list in place."
   ]
  },
  {
   "cell_type": "code",
   "execution_count": 148,
   "metadata": {},
   "outputs": [
    {
     "name": "stdout",
     "output_type": "stream",
     "text": [
      "['pepperoni', 'black olives', 'mushrooms', 'anchovies', 'sausage']\n"
     ]
    }
   ],
   "source": [
    "toppings.append(\"sausage\")\n",
    "print(toppings)"
   ]
  },
  {
   "attachments": {},
   "cell_type": "markdown",
   "metadata": {},
   "source": [
    "Lists can also be concatenated with the `+` operator."
   ]
  },
  {
   "cell_type": "code",
   "execution_count": 149,
   "metadata": {},
   "outputs": [
    {
     "name": "stdout",
     "output_type": "stream",
     "text": [
      "['pepperoni', 'black olives', 'mushrooms', 'anchovies', 'sausage', 'flour', 'yeast', 'salt', 'water', 'tomatoes']\n"
     ]
    }
   ],
   "source": [
    "ingredients = toppings + [\"flour\", \"yeast\", \"salt\", \"water\", \"tomatoes\"]\n",
    "print(ingredients)"
   ]
  },
  {
   "attachments": {},
   "cell_type": "markdown",
   "metadata": {},
   "source": [
    "### Dictionaries\n",
    "\n",
    "Dictionaries are unordered collections of keys and associated values. Dictionaries can be written as a comma-separated set of key:value pairs within braces `{}`. Values can be retrieved using the corresponding key."
   ]
  },
  {
   "cell_type": "code",
   "execution_count": 150,
   "metadata": {},
   "outputs": [
    {
     "name": "stdout",
     "output_type": "stream",
     "text": [
      "The diameter of a medium pizza is 14 inches.\n"
     ]
    }
   ],
   "source": [
    "pizza_diameters = {\n",
    "    \"small\": 10,\n",
    "    \"medium\": 14,\n",
    "    \"large\": 18\n",
    "}\n",
    "\n",
    "medium_diameter = pizza_diameters[\"medium\"]\n",
    "print(f\"The diameter of a medium pizza is {medium_diameter} inches.\")"
   ]
  },
  {
   "attachments": {},
   "cell_type": "markdown",
   "metadata": {},
   "source": [
    "Dictionaries and lists can also be nested."
   ]
  },
  {
   "cell_type": "code",
   "execution_count": 151,
   "metadata": {},
   "outputs": [
    {
     "name": "stdout",
     "output_type": "stream",
     "text": [
      "A large pizza costs $21.50 plus $1.00 per topping.\n"
     ]
    }
   ],
   "source": [
    "pizza_info = {\n",
    "    \"small\": {\n",
    "        \"diameter\": 10,\n",
    "        \"base_price\": 12.50,\n",
    "        \"price_per_topping\": 0.50\n",
    "    },\n",
    "    \"medium\": {\n",
    "        \"diameter\": 14,\n",
    "        \"base_price\": 17.50,\n",
    "        \"price_per_topping\": 0.75\n",
    "    },\n",
    "    \"large\": {\n",
    "        \"diameter\": 18,\n",
    "        \"base_price\": 21.50,\n",
    "        \"price_per_topping\": 1.00\n",
    "    },\n",
    "    \"sicilian\": {\n",
    "        \"width\": 9,\n",
    "        \"length\": 13,\n",
    "        \"base_price\": 17.50,\n",
    "        \"price_per_topping\": 0.75\n",
    "    }\n",
    "}\n",
    "\n",
    "large_base_price = pizza_info[\"large\"][\"base_price\"]\n",
    "large_price_per_topping = pizza_info[\"large\"][\"price_per_topping\"]\n",
    "print(f\"A large pizza costs ${large_base_price:.2f} plus\",\n",
    "      f\"${large_price_per_topping:.2f} per topping.\")"
   ]
  },
  {
   "attachments": {},
   "cell_type": "markdown",
   "metadata": {},
   "source": [
    "### Comparing values\n",
    "\n",
    "Comparison operators can be used to compare values of the same type, producing boolean values. The standard comparison operators are the following:\n",
    "\n",
    "- `<` (less than)\n",
    "- `>` (greater than)\n",
    "- `==` (equal to)\n",
    "- `<=` (less than or equal to)\n",
    "- `>=` (greater than or equal to)\n",
    "- `!=` (not equal to)"
   ]
  },
  {
   "cell_type": "code",
   "execution_count": 152,
   "metadata": {},
   "outputs": [
    {
     "data": {
      "text/plain": [
       "False"
      ]
     },
     "execution_count": 152,
     "metadata": {},
     "output_type": "execute_result"
    }
   ],
   "source": [
    "food == \"salad\""
   ]
  },
  {
   "cell_type": "code",
   "execution_count": 153,
   "metadata": {},
   "outputs": [
    {
     "data": {
      "text/plain": [
       "True"
      ]
     },
     "execution_count": 153,
     "metadata": {},
     "output_type": "execute_result"
    }
   ],
   "source": [
    "7 * 33 >= 100"
   ]
  },
  {
   "cell_type": "code",
   "execution_count": 154,
   "metadata": {},
   "outputs": [
    {
     "data": {
      "text/plain": [
       "True"
      ]
     },
     "execution_count": 154,
     "metadata": {},
     "output_type": "execute_result"
    }
   ],
   "source": [
    "\"anchovies\" < \"pepperoni\"  # strings are compared byte-by-byte"
   ]
  },
  {
   "cell_type": "code",
   "execution_count": 155,
   "metadata": {},
   "outputs": [
    {
     "data": {
      "text/plain": [
       "False"
      ]
     },
     "execution_count": 155,
     "metadata": {},
     "output_type": "execute_result"
    }
   ],
   "source": [
    "ingredients == toppings"
   ]
  },
  {
   "attachments": {},
   "cell_type": "markdown",
   "metadata": {},
   "source": [
    "## Control flow\n",
    "\n",
    "If statements are used to apply different logic based on specified conditions."
   ]
  },
  {
   "cell_type": "code",
   "execution_count": 156,
   "metadata": {
    "scrolled": true
   },
   "outputs": [
    {
     "name": "stdout",
     "output_type": "stream",
     "text": [
      "circle\n"
     ]
    }
   ],
   "source": [
    "style = \"neapolitan\"\n",
    "\n",
    "if style == \"sicilian\":\n",
    "    shape = \"rectangle\"\n",
    "else:\n",
    "    shape = \"circle\"\n",
    "    \n",
    "print(shape)"
   ]
  },
  {
   "cell_type": "code",
   "execution_count": 157,
   "metadata": {},
   "outputs": [
    {
     "name": "stdout",
     "output_type": "stream",
     "text": [
      "The diameter of a large pizza is 18 inches.\n"
     ]
    }
   ],
   "source": [
    "size = \"large\"\n",
    "\n",
    "if size == \"small\":\n",
    "    diameter = 10\n",
    "elif size == \"medium\":\n",
    "    diameter = 14\n",
    "elif size == \"large\":\n",
    "    diameter = 18\n",
    "\n",
    "print(f\"The diameter of a {size} pizza is {diameter} inches.\")"
   ]
  },
  {
   "attachments": {},
   "cell_type": "markdown",
   "metadata": {},
   "source": [
    "While loops can be used to perform an action as long as a specific condition is\n",
    "satisfied. In the example below, we print the square of each value from zero to\n",
    "ten."
   ]
  },
  {
   "cell_type": "code",
   "execution_count": 158,
   "metadata": {},
   "outputs": [
    {
     "name": "stdout",
     "output_type": "stream",
     "text": [
      "0\n",
      "1\n",
      "4\n",
      "9\n",
      "16\n",
      "25\n",
      "36\n",
      "49\n",
      "64\n",
      "81\n",
      "100\n"
     ]
    }
   ],
   "source": [
    "i = 0\n",
    "while i <= 10:\n",
    "    print(i ** 2)\n",
    "    i = i + 1"
   ]
  },
  {
   "attachments": {},
   "cell_type": "markdown",
   "metadata": {},
   "source": [
    "For loops can be used to iterate over lists, strings, and other \"iterable\" objects."
   ]
  },
  {
   "cell_type": "code",
   "execution_count": 159,
   "metadata": {},
   "outputs": [
    {
     "name": "stdout",
     "output_type": "stream",
     "text": [
      "pepperoni\n",
      "black olives\n",
      "mushrooms\n",
      "anchovies\n",
      "sausage\n",
      "flour\n",
      "yeast\n",
      "salt\n",
      "water\n",
      "tomatoes\n"
     ]
    }
   ],
   "source": [
    "for ingredient in ingredients:\n",
    "    print(ingredient)"
   ]
  },
  {
   "attachments": {},
   "cell_type": "markdown",
   "metadata": {},
   "source": [
    "`range()` is useful when a fixed number of iterations is needed."
   ]
  },
  {
   "cell_type": "code",
   "execution_count": 160,
   "metadata": {},
   "outputs": [
    {
     "name": "stdout",
     "output_type": "stream",
     "text": [
      "0\n",
      "1\n",
      "4\n",
      "9\n",
      "16\n",
      "25\n",
      "36\n",
      "49\n",
      "64\n",
      "81\n",
      "100\n"
     ]
    }
   ],
   "source": [
    "for i in range(11):\n",
    "    print(i ** 2)"
   ]
  },
  {
   "cell_type": "code",
   "execution_count": 161,
   "metadata": {
    "scrolled": true
   },
   "outputs": [
    {
     "name": "stdout",
     "output_type": "stream",
     "text": [
      "small: $12.50\n",
      "medium: $17.50\n",
      "large: $21.50\n",
      "sicilian: $17.50\n"
     ]
    }
   ],
   "source": [
    "# Exercise: Using a loop, print each pizza size/type along with its base price.\n",
    "\n",
    "# write your code here\n",
    "\n",
    "for size in pizza_info.keys():\n",
    "    print(f\"{size}: ${pizza_info[size]['base_price']:.2f}\")"
   ]
  },
  {
   "attachments": {},
   "cell_type": "markdown",
   "metadata": {},
   "source": [
    "## Functions\n",
    "\n",
    "Functions allow us to abstract a chunk of logic into a \"callable\" object.\n",
    "Functions take zero or more arguments (specified in parentheses) and optionally\n",
    "return a value."
   ]
  },
  {
   "cell_type": "code",
   "execution_count": 162,
   "metadata": {
    "scrolled": true
   },
   "outputs": [
    {
     "data": {
      "text/plain": [
       "254.469"
      ]
     },
     "execution_count": 162,
     "metadata": {},
     "output_type": "execute_result"
    }
   ],
   "source": [
    "# Example\n",
    "\n",
    "def circle_area(diameter):\n",
    "    pi = 3.14159\n",
    "    radius = diameter / 2\n",
    "    area = pi * radius ** 2\n",
    "    return area\n",
    "\n",
    "round(circle_area(18), 3)"
   ]
  },
  {
   "cell_type": "code",
   "execution_count": 163,
   "metadata": {
    "scrolled": true
   },
   "outputs": [],
   "source": [
    "# Exercise: Referring to the pizza_info dictionary defined above, write a\n",
    "# function to calculate the cost of a pizza per square inch based on the\n",
    "# size/type and number of toppings. Use 3.14159 as the value of pi, and\n",
    "# be sure to round the price to the nearest cent.\n",
    "\n",
    "def per_sq_inch_cost(type, topping_count):\n",
    "    if type == \"sicilian\":\n",
    "        area = pizza_info[\"sicilian\"][\"width\"] * pizza_info[\"sicilian\"][\"length\"]\n",
    "    else:\n",
    "        area = circle_area(pizza_info[type][\"diameter\"])\n",
    "    price = pizza_info[type][\"base_price\"] + topping_count * pizza_info[type][\"price_per_topping\"]\n",
    "    return round(price / area, 2)"
   ]
  },
  {
   "cell_type": "code",
   "execution_count": 164,
   "metadata": {},
   "outputs": [
    {
     "data": {
      "text/plain": [
       "True"
      ]
     },
     "execution_count": 164,
     "metadata": {},
     "output_type": "execute_result"
    }
   ],
   "source": [
    "# Exercise check: if your function is working, this cell should output True\n",
    "\n",
    "round(per_sq_inch_cost(\"large\", 3), 3) == 0.10 and round(\n",
    "    per_sq_inch_cost(\"sicilian\", 1), 3\n",
    ") == 0.16"
   ]
  },
  {
   "attachments": {},
   "cell_type": "markdown",
   "metadata": {},
   "source": [
    "## Importing modules/packages\n",
    "\n",
    "Code can be imported from built-in and third-party modules and from other\n",
    "Python files using the `import` command."
   ]
  },
  {
   "cell_type": "code",
   "execution_count": 165,
   "metadata": {
    "scrolled": true
   },
   "outputs": [
    {
     "data": {
      "text/plain": [
       "3.141592653589793"
      ]
     },
     "execution_count": 165,
     "metadata": {},
     "output_type": "execute_result"
    }
   ],
   "source": [
    "# Example: built-in module\n",
    "\n",
    "import math\n",
    "\n",
    "math.pi"
   ]
  },
  {
   "cell_type": "code",
   "execution_count": 166,
   "metadata": {},
   "outputs": [
    {
     "data": {
      "text/plain": [
       "254.46900494077323"
      ]
     },
     "execution_count": 166,
     "metadata": {},
     "output_type": "execute_result"
    }
   ],
   "source": [
    "# Example: custom module\n",
    "\n",
    "from shared_data import pizza_utilities\n",
    "\n",
    "pizza_utilities.calculate_area_from_diameter(18)"
   ]
  },
  {
   "attachments": {},
   "cell_type": "markdown",
   "metadata": {},
   "source": [
    "## Classes\n",
    "\n",
    "Classes provide a way of bundling data and functionality together. Once a class\n",
    "is defined, multiple instances of the class can be created."
   ]
  },
  {
   "cell_type": "code",
   "execution_count": 167,
   "metadata": {
    "scrolled": true
   },
   "outputs": [],
   "source": [
    "# Example\n",
    "\n",
    "from datetime import datetime\n",
    "\n",
    "\n",
    "class Pizza:\n",
    "    restaurant = \"Python Pizzeria\"  # class variable shared by all instances\n",
    "\n",
    "    def __init__(self, customer, type, toppings):\n",
    "        self.customer = customer  # instance variables unique to each instance\n",
    "        self.type = type\n",
    "        self.toppings = toppings\n",
    "        self.price = (\n",
    "            pizza_info[type][\"base_price\"]\n",
    "            + len(toppings) * pizza_info[type][\"price_per_topping\"]\n",
    "        )\n",
    "        self.status = \"ordered\"\n",
    "        self.datetime_ordered = datetime.now()\n",
    "        self.datetime_prepared = None\n",
    "        self.datetime_delivered = None\n",
    "        self.current_status_time = self.datetime_ordered\n",
    "\n",
    "    def prepared(self):\n",
    "        if self.status == \"ordered\":\n",
    "            self.status = \"prepared\"\n",
    "            self.datetime_prepared = datetime.now()\n",
    "            self.current_status_time = self.datetime_prepared\n",
    "        else:\n",
    "            raise Exception(\n",
    "                'Pizza must have a status of \"ordered\" before it can be prepared.'\n",
    "            )\n",
    "\n",
    "    def delivered(self):\n",
    "        if self.status == \"prepared\":\n",
    "            self.status = \"delivered\"\n",
    "            self.datetime_delivered = datetime.now()\n",
    "            self.current_status_time = self.datetime_delivered\n",
    "        else:\n",
    "            raise Exception(\n",
    "                'Pizza must have a status of \"prepared\" before it can be delivered.'\n",
    "            )\n",
    "\n",
    "    def __str__(self):\n",
    "        status_string = (\n",
    "            f\"{self.status} at {self.current_status_time.strftime('%I:%M %p')}\"\n",
    "        )\n",
    "        return (\n",
    "            f\"{self.type} pizza with {', '.join(self.toppings)} for \"\n",
    "            f\"{self.customer}: ${self.price:.2f} ({status_string})\"\n",
    "        )"
   ]
  },
  {
   "cell_type": "code",
   "execution_count": 168,
   "metadata": {},
   "outputs": [
    {
     "name": "stdout",
     "output_type": "stream",
     "text": [
      "Python Pizzeria Order List\n",
      "1. large pizza with pepperoni, mushrooms, black olives for Drew: $24.50 (delivered at 03:06 PM)\n",
      "2. sicilian pizza with sausage for Alasdair: $18.25 (prepared at 03:06 PM)\n",
      "3. large pizza with anchovies for Huxley: $22.50 (ordered at 03:06 PM)\n"
     ]
    }
   ],
   "source": [
    "orders = []\n",
    "\n",
    "orders.append(\n",
    "    Pizza(\"Drew\", \"large\", [\"pepperoni\", \"mushrooms\", \"black olives\"])\n",
    ")\n",
    "\n",
    "p1 = Pizza(\"Alasdair\", \"sicilian\", [\"sausage\"])\n",
    "orders.append(p1)\n",
    "\n",
    "orders.append(Pizza(\"Huxley\", \"large\", [\"anchovies\"]))\n",
    "\n",
    "orders[0].prepared()\n",
    "orders[1].prepared()\n",
    "orders[0].delivered()\n",
    "\n",
    "print(\"Python Pizzeria Order List\")\n",
    "for i in range(len(orders)):\n",
    "    print(f\"{i + 1}. {orders[i]}\")"
   ]
  },
  {
   "attachments": {},
   "cell_type": "markdown",
   "metadata": {},
   "source": [
    "## Resources\n",
    "\n",
    "- [Python documentation](https://docs.python.org/)\n",
    "- [PEP8 style guide](https://peps.python.org/pep-0008/)\n",
    "- [Python Package Index (PyPI)](https://pypi.org/)"
   ]
  }
 ],
 "metadata": {
  "kernelspec": {
   "display_name": "Python 3 (ipykernel)",
   "language": "python",
   "name": "python3"
  },
  "language_info": {
   "codemirror_mode": {
    "name": "ipython",
    "version": 3
   },
   "file_extension": ".py",
   "mimetype": "text/x-python",
   "name": "python",
   "nbconvert_exporter": "python",
   "pygments_lexer": "ipython3",
   "version": "3.10.5"
  }
 },
 "nbformat": 4,
 "nbformat_minor": 2
}
